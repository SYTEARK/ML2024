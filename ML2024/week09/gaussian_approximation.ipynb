{
 "cells": [
  {
   "cell_type": "code",
   "execution_count": 1,
   "id": "fefd563e-6428-4f73-8a5b-89aa64d10b70",
   "metadata": {},
   "outputs": [],
   "source": [
    "import numpy as np\n",
    "import pandas as pd\n",
    "\n",
    "import torch\n",
    "from torch import nn, optim\n",
    "from torch.nn import functional as F\n",
    "from torch.utils.data import DataLoader, Dataset\n",
    "from torch.optim.lr_scheduler import OneCycleLR, PolynomialLR\n",
    "\n",
    "import lightning as L\n",
    "from lightning import Trainer\n",
    "from lightning.pytorch.callbacks import ModelCheckpoint, LearningRateMonitor\n",
    "from lightning.pytorch.loggers import WandbLogger\n",
    "\n",
    "import wandb\n"
   ]
  },
  {
   "cell_type": "code",
   "execution_count": 2,
   "id": "c9294c22-5873-4a96-b6a7-02e1e0914db9",
   "metadata": {},
   "outputs": [],
   "source": [
    "df = pd.read_csv(\"hubble_dataset.csv\")"
   ]
  },
  {
   "cell_type": "code",
   "execution_count": 3,
   "id": "e36359b6-ef27-4ad8-8307-47645388fdf3",
   "metadata": {},
   "outputs": [
    {
     "data": {
      "text/html": [
       "<div>\n",
       "<style scoped>\n",
       "    .dataframe tbody tr th:only-of-type {\n",
       "        vertical-align: middle;\n",
       "    }\n",
       "\n",
       "    .dataframe tbody tr th {\n",
       "        vertical-align: top;\n",
       "    }\n",
       "\n",
       "    .dataframe thead th {\n",
       "        text-align: right;\n",
       "    }\n",
       "</style>\n",
       "<table border=\"1\" class=\"dataframe\">\n",
       "  <thead>\n",
       "    <tr style=\"text-align: right;\">\n",
       "      <th></th>\n",
       "      <th>z</th>\n",
       "      <th>H(z)</th>\n",
       "      <th>Error</th>\n",
       "      <th>Ref.</th>\n",
       "    </tr>\n",
       "  </thead>\n",
       "  <tbody>\n",
       "    <tr>\n",
       "      <th>0</th>\n",
       "      <td>0.071</td>\n",
       "      <td>69.00</td>\n",
       "      <td>19.70</td>\n",
       "      <td>[44]</td>\n",
       "    </tr>\n",
       "    <tr>\n",
       "      <th>1</th>\n",
       "      <td>0.090</td>\n",
       "      <td>69.00</td>\n",
       "      <td>12.00</td>\n",
       "      <td>[47]</td>\n",
       "    </tr>\n",
       "    <tr>\n",
       "      <th>2</th>\n",
       "      <td>0.120</td>\n",
       "      <td>68.60</td>\n",
       "      <td>26.20</td>\n",
       "      <td>[44]</td>\n",
       "    </tr>\n",
       "    <tr>\n",
       "      <th>3</th>\n",
       "      <td>0.170</td>\n",
       "      <td>83.00</td>\n",
       "      <td>8.00</td>\n",
       "      <td>[50]</td>\n",
       "    </tr>\n",
       "    <tr>\n",
       "      <th>4</th>\n",
       "      <td>0.179</td>\n",
       "      <td>75.00</td>\n",
       "      <td>4.00</td>\n",
       "      <td>[48]</td>\n",
       "    </tr>\n",
       "    <tr>\n",
       "      <th>5</th>\n",
       "      <td>0.199</td>\n",
       "      <td>75.00</td>\n",
       "      <td>5.00</td>\n",
       "      <td>[48]</td>\n",
       "    </tr>\n",
       "    <tr>\n",
       "      <th>6</th>\n",
       "      <td>0.200</td>\n",
       "      <td>72.90</td>\n",
       "      <td>29.60</td>\n",
       "      <td>[44]</td>\n",
       "    </tr>\n",
       "    <tr>\n",
       "      <th>7</th>\n",
       "      <td>0.240</td>\n",
       "      <td>79.69</td>\n",
       "      <td>2.65</td>\n",
       "      <td>[45]</td>\n",
       "    </tr>\n",
       "    <tr>\n",
       "      <th>8</th>\n",
       "      <td>0.270</td>\n",
       "      <td>77.00</td>\n",
       "      <td>14.00</td>\n",
       "      <td>[50]</td>\n",
       "    </tr>\n",
       "    <tr>\n",
       "      <th>9</th>\n",
       "      <td>0.280</td>\n",
       "      <td>88.80</td>\n",
       "      <td>36.60</td>\n",
       "      <td>[44]</td>\n",
       "    </tr>\n",
       "    <tr>\n",
       "      <th>10</th>\n",
       "      <td>0.352</td>\n",
       "      <td>83.00</td>\n",
       "      <td>13.50</td>\n",
       "      <td>[48]</td>\n",
       "    </tr>\n",
       "    <tr>\n",
       "      <th>11</th>\n",
       "      <td>0.380</td>\n",
       "      <td>83.00</td>\n",
       "      <td>17.00</td>\n",
       "      <td>[49]</td>\n",
       "    </tr>\n",
       "    <tr>\n",
       "      <th>12</th>\n",
       "      <td>0.400</td>\n",
       "      <td>95.00</td>\n",
       "      <td>17.00</td>\n",
       "      <td>[50]</td>\n",
       "    </tr>\n",
       "    <tr>\n",
       "      <th>13</th>\n",
       "      <td>0.401</td>\n",
       "      <td>77.00</td>\n",
       "      <td>10.20</td>\n",
       "      <td>[49]</td>\n",
       "    </tr>\n",
       "    <tr>\n",
       "      <th>14</th>\n",
       "      <td>0.425</td>\n",
       "      <td>87.10</td>\n",
       "      <td>11.20</td>\n",
       "      <td>[49]</td>\n",
       "    </tr>\n",
       "    <tr>\n",
       "      <th>15</th>\n",
       "      <td>0.430</td>\n",
       "      <td>86.50</td>\n",
       "      <td>3.70</td>\n",
       "      <td>[45]</td>\n",
       "    </tr>\n",
       "    <tr>\n",
       "      <th>16</th>\n",
       "      <td>0.440</td>\n",
       "      <td>82.60</td>\n",
       "      <td>7.80</td>\n",
       "      <td>[46]</td>\n",
       "    </tr>\n",
       "    <tr>\n",
       "      <th>17</th>\n",
       "      <td>0.449</td>\n",
       "      <td>92.80</td>\n",
       "      <td>12.90</td>\n",
       "      <td>[49]</td>\n",
       "    </tr>\n",
       "    <tr>\n",
       "      <th>18</th>\n",
       "      <td>0.470</td>\n",
       "      <td>89.00</td>\n",
       "      <td>49.60</td>\n",
       "      <td>[51]</td>\n",
       "    </tr>\n",
       "    <tr>\n",
       "      <th>19</th>\n",
       "      <td>0.478</td>\n",
       "      <td>80.90</td>\n",
       "      <td>9.00</td>\n",
       "      <td>[49]</td>\n",
       "    </tr>\n",
       "    <tr>\n",
       "      <th>20</th>\n",
       "      <td>0.480</td>\n",
       "      <td>97.00</td>\n",
       "      <td>62.00</td>\n",
       "      <td>[52]</td>\n",
       "    </tr>\n",
       "    <tr>\n",
       "      <th>21</th>\n",
       "      <td>0.510</td>\n",
       "      <td>90.40</td>\n",
       "      <td>1.90</td>\n",
       "      <td>[53]</td>\n",
       "    </tr>\n",
       "    <tr>\n",
       "      <th>22</th>\n",
       "      <td>0.520</td>\n",
       "      <td>94.35</td>\n",
       "      <td>2.64</td>\n",
       "      <td>[54]</td>\n",
       "    </tr>\n",
       "    <tr>\n",
       "      <th>23</th>\n",
       "      <td>0.560</td>\n",
       "      <td>93.34</td>\n",
       "      <td>2.30</td>\n",
       "      <td>[46]</td>\n",
       "    </tr>\n",
       "    <tr>\n",
       "      <th>24</th>\n",
       "      <td>0.570</td>\n",
       "      <td>96.80</td>\n",
       "      <td>3.40</td>\n",
       "      <td>[56]</td>\n",
       "    </tr>\n",
       "    <tr>\n",
       "      <th>25</th>\n",
       "      <td>0.593</td>\n",
       "      <td>104.00</td>\n",
       "      <td>13.00</td>\n",
       "      <td>[48]</td>\n",
       "    </tr>\n",
       "    <tr>\n",
       "      <th>26</th>\n",
       "      <td>0.600</td>\n",
       "      <td>87.90</td>\n",
       "      <td>6.10</td>\n",
       "      <td>[46]</td>\n",
       "    </tr>\n",
       "    <tr>\n",
       "      <th>27</th>\n",
       "      <td>0.610</td>\n",
       "      <td>97.30</td>\n",
       "      <td>2.10</td>\n",
       "      <td>[53]</td>\n",
       "    </tr>\n",
       "    <tr>\n",
       "      <th>28</th>\n",
       "      <td>0.640</td>\n",
       "      <td>98.82</td>\n",
       "      <td>2.98</td>\n",
       "      <td>[54]</td>\n",
       "    </tr>\n",
       "    <tr>\n",
       "      <th>29</th>\n",
       "      <td>0.679</td>\n",
       "      <td>92.00</td>\n",
       "      <td>8.00</td>\n",
       "      <td>[48]</td>\n",
       "    </tr>\n",
       "    <tr>\n",
       "      <th>30</th>\n",
       "      <td>0.730</td>\n",
       "      <td>97.30</td>\n",
       "      <td>7.00</td>\n",
       "      <td>[46]</td>\n",
       "    </tr>\n",
       "    <tr>\n",
       "      <th>31</th>\n",
       "      <td>0.781</td>\n",
       "      <td>105.00</td>\n",
       "      <td>12.00</td>\n",
       "      <td>[48]</td>\n",
       "    </tr>\n",
       "    <tr>\n",
       "      <th>32</th>\n",
       "      <td>0.875</td>\n",
       "      <td>125.00</td>\n",
       "      <td>17.00</td>\n",
       "      <td>[48]</td>\n",
       "    </tr>\n",
       "    <tr>\n",
       "      <th>33</th>\n",
       "      <td>0.880</td>\n",
       "      <td>90.00</td>\n",
       "      <td>40.00</td>\n",
       "      <td>[52]</td>\n",
       "    </tr>\n",
       "    <tr>\n",
       "      <th>34</th>\n",
       "      <td>0.900</td>\n",
       "      <td>117.00</td>\n",
       "      <td>23.00</td>\n",
       "      <td>[50]</td>\n",
       "    </tr>\n",
       "    <tr>\n",
       "      <th>35</th>\n",
       "      <td>1.037</td>\n",
       "      <td>154.00</td>\n",
       "      <td>20.00</td>\n",
       "      <td>[48]</td>\n",
       "    </tr>\n",
       "    <tr>\n",
       "      <th>36</th>\n",
       "      <td>1.300</td>\n",
       "      <td>168.00</td>\n",
       "      <td>17.00</td>\n",
       "      <td>[50]</td>\n",
       "    </tr>\n",
       "    <tr>\n",
       "      <th>37</th>\n",
       "      <td>1.363</td>\n",
       "      <td>160.00</td>\n",
       "      <td>33.60</td>\n",
       "      <td>[55]</td>\n",
       "    </tr>\n",
       "    <tr>\n",
       "      <th>38</th>\n",
       "      <td>1.430</td>\n",
       "      <td>177.00</td>\n",
       "      <td>18.00</td>\n",
       "      <td>[50]</td>\n",
       "    </tr>\n",
       "    <tr>\n",
       "      <th>39</th>\n",
       "      <td>1.530</td>\n",
       "      <td>140.00</td>\n",
       "      <td>14.00</td>\n",
       "      <td>[50]</td>\n",
       "    </tr>\n",
       "    <tr>\n",
       "      <th>40</th>\n",
       "      <td>1.750</td>\n",
       "      <td>202.00</td>\n",
       "      <td>40.00</td>\n",
       "      <td>[50]</td>\n",
       "    </tr>\n",
       "    <tr>\n",
       "      <th>41</th>\n",
       "      <td>1.965</td>\n",
       "      <td>186.50</td>\n",
       "      <td>50.40</td>\n",
       "      <td>[55]</td>\n",
       "    </tr>\n",
       "    <tr>\n",
       "      <th>42</th>\n",
       "      <td>2.300</td>\n",
       "      <td>224.00</td>\n",
       "      <td>8.00</td>\n",
       "      <td>[57]</td>\n",
       "    </tr>\n",
       "    <tr>\n",
       "      <th>43</th>\n",
       "      <td>2.340</td>\n",
       "      <td>222.00</td>\n",
       "      <td>8.50</td>\n",
       "      <td>[58]</td>\n",
       "    </tr>\n",
       "    <tr>\n",
       "      <th>44</th>\n",
       "      <td>2.360</td>\n",
       "      <td>226.00</td>\n",
       "      <td>9.30</td>\n",
       "      <td>[59]</td>\n",
       "    </tr>\n",
       "  </tbody>\n",
       "</table>\n",
       "</div>"
      ],
      "text/plain": [
       "        z    H(z)  Error  Ref.\n",
       "0   0.071   69.00  19.70  [44]\n",
       "1   0.090   69.00  12.00  [47]\n",
       "2   0.120   68.60  26.20  [44]\n",
       "3   0.170   83.00   8.00  [50]\n",
       "4   0.179   75.00   4.00  [48]\n",
       "5   0.199   75.00   5.00  [48]\n",
       "6   0.200   72.90  29.60  [44]\n",
       "7   0.240   79.69   2.65  [45]\n",
       "8   0.270   77.00  14.00  [50]\n",
       "9   0.280   88.80  36.60  [44]\n",
       "10  0.352   83.00  13.50  [48]\n",
       "11  0.380   83.00  17.00  [49]\n",
       "12  0.400   95.00  17.00  [50]\n",
       "13  0.401   77.00  10.20  [49]\n",
       "14  0.425   87.10  11.20  [49]\n",
       "15  0.430   86.50   3.70  [45]\n",
       "16  0.440   82.60   7.80  [46]\n",
       "17  0.449   92.80  12.90  [49]\n",
       "18  0.470   89.00  49.60  [51]\n",
       "19  0.478   80.90   9.00  [49]\n",
       "20  0.480   97.00  62.00  [52]\n",
       "21  0.510   90.40   1.90  [53]\n",
       "22  0.520   94.35   2.64  [54]\n",
       "23  0.560   93.34   2.30  [46]\n",
       "24  0.570   96.80   3.40  [56]\n",
       "25  0.593  104.00  13.00  [48]\n",
       "26  0.600   87.90   6.10  [46]\n",
       "27  0.610   97.30   2.10  [53]\n",
       "28  0.640   98.82   2.98  [54]\n",
       "29  0.679   92.00   8.00  [48]\n",
       "30  0.730   97.30   7.00  [46]\n",
       "31  0.781  105.00  12.00  [48]\n",
       "32  0.875  125.00  17.00  [48]\n",
       "33  0.880   90.00  40.00  [52]\n",
       "34  0.900  117.00  23.00  [50]\n",
       "35  1.037  154.00  20.00  [48]\n",
       "36  1.300  168.00  17.00  [50]\n",
       "37  1.363  160.00  33.60  [55]\n",
       "38  1.430  177.00  18.00  [50]\n",
       "39  1.530  140.00  14.00  [50]\n",
       "40  1.750  202.00  40.00  [50]\n",
       "41  1.965  186.50  50.40  [55]\n",
       "42  2.300  224.00   8.00  [57]\n",
       "43  2.340  222.00   8.50  [58]\n",
       "44  2.360  226.00   9.30  [59]"
      ]
     },
     "execution_count": 3,
     "metadata": {},
     "output_type": "execute_result"
    }
   ],
   "source": [
    "df"
   ]
  },
  {
   "cell_type": "code",
   "execution_count": 4,
   "id": "f9bdd6ac-21d7-4d21-9fc5-bb53b59eb9f8",
   "metadata": {},
   "outputs": [],
   "source": [
    "redshift=df[df.columns[0]].to_numpy()\n",
    "Hz=df[df.columns[1]].to_numpy()\n",
    "err=df[df.columns[2]].to_numpy()"
   ]
  },
  {
   "cell_type": "code",
   "execution_count": 5,
   "id": "1bf74a43-93c0-4459-aef9-78af65dca393",
   "metadata": {},
   "outputs": [],
   "source": [
    "rho0 = 1.26\n",
    "rho0_b = 0.05"
   ]
  },
  {
   "cell_type": "code",
   "execution_count": 6,
   "id": "9313571f-ba34-4127-8b52-46ba751689da",
   "metadata": {},
   "outputs": [],
   "source": [
    "class ZData(Dataset):\n",
    "    def __init__(self, z, Hz, err):\n",
    "        self.z = torch.tensor(z, dtype=torch.float32).reshape(-1,1)\n",
    "        self.Hz = torch.tensor(Hz, dtype=torch.float32).reshape(-1,1)\n",
    "        self.err = torch.tensor(err, dtype=torch.float32).reshape(-1,1)\n",
    "\n",
    "    def __len__(self):\n",
    "        return self.z.shape[0]\n",
    "\n",
    "    def __getitem__(self, idx):\n",
    "        return self.z[idx], self.Hz[idx], self.err[idx]"
   ]
  },
  {
   "cell_type": "code",
   "execution_count": 7,
   "id": "dff96249-080a-4e4a-bc24-a1f794e9f063",
   "metadata": {},
   "outputs": [],
   "source": [
    "ds = ZData(redshift, Hz, err)"
   ]
  },
  {
   "cell_type": "code",
   "execution_count": 8,
   "id": "535ae334-dee8-49c6-924c-3ea908e20cda",
   "metadata": {},
   "outputs": [
    {
     "data": {
      "text/plain": [
       "(tensor([[0.0710],\n",
       "         [0.0900],\n",
       "         [0.1200],\n",
       "         [0.1700],\n",
       "         [0.1790],\n",
       "         [0.1990],\n",
       "         [0.2000],\n",
       "         [0.2400],\n",
       "         [0.2700],\n",
       "         [0.2800]]),\n",
       " tensor([[69.0000],\n",
       "         [69.0000],\n",
       "         [68.6000],\n",
       "         [83.0000],\n",
       "         [75.0000],\n",
       "         [75.0000],\n",
       "         [72.9000],\n",
       "         [79.6900],\n",
       "         [77.0000],\n",
       "         [88.8000]]),\n",
       " tensor([[19.7000],\n",
       "         [12.0000],\n",
       "         [26.2000],\n",
       "         [ 8.0000],\n",
       "         [ 4.0000],\n",
       "         [ 5.0000],\n",
       "         [29.6000],\n",
       "         [ 2.6500],\n",
       "         [14.0000],\n",
       "         [36.6000]]))"
      ]
     },
     "execution_count": 8,
     "metadata": {},
     "output_type": "execute_result"
    }
   ],
   "source": [
    "ds[:10]"
   ]
  },
  {
   "cell_type": "code",
   "execution_count": 9,
   "id": "fc6b4c4c-bccb-4092-aead-39ed7486cd37",
   "metadata": {},
   "outputs": [],
   "source": [
    "class MLP(L.LightningModule):\n",
    "    def __init__(self, hparams):\n",
    "        super().__init__()\n",
    "        self.lr          = hparams['learning_rate']\n",
    "        self.batch       = hparams['batch_size']\n",
    "        self.hidden_size = hparams['hidden_size']\n",
    "        self.num_layers  = hparams['num_layers']\n",
    "        self.epochs      = hparams['epochs']\n",
    "\n",
    "        self.save_hyperparameters()\n",
    "\n",
    "        H0    = torch.tensor(hparams['H0_init'])\n",
    "        omg_d = torch.tensor(hparams['omg_d_init'])\n",
    "        eta   = torch.tensor(hparams['eta_init'])\n",
    "        B     = torch.tensor(hparams['B_init'])\n",
    "        n     = torch.tensor(hparams['n_init'])\n",
    "\n",
    "        self.H0_s    = nn.Parameter(H0, requires_grad=True)\n",
    "        self.omg_d_s = nn.Parameter(omg_d, requires_grad=True)\n",
    "        self.eta_s   = nn.Parameter(eta, requires_grad=True)\n",
    "        self.B_s     = nn.Parameter(B, requires_grad=True)\n",
    "        self.n_s     = nn.Parameter(n, requires_grad=True)\n",
    "\n",
    "    def compute_params(self):\n",
    "        self.H0    = 10 * (F.elu(self.H0_s) + 1)\n",
    "        self.omg_d = F.sigmoid(0.01 * self.omg_d_s)\n",
    "        self.eta   = F.sigmoid(self.eta_s)\n",
    "        self.B     = F.elu(self.B_s) + 1\n",
    "        self.n     = self.n_s\n",
    "        \n",
    "    def forward(self, x):\n",
    "        c = 1.59 - 2 * self.B * (1 - self.eta) / (3 * self.n + 2 * (1 - self.eta))\n",
    "        first = (1 - self.omg_d) / (1 + x)**(-3)\n",
    "        second = self.omg_d / (rho0 * (1 + x) ** (3*self.n - 3))\n",
    "        third  = torch.sqrt(\n",
    "            2 * self.B * (1 - self.eta) * (1 + x)**(-3*self.n - 6) \n",
    "                / (3 * self.n + 2 * (1 - self.eta)) + c\n",
    "        )\n",
    "        return self.H0 * torch.sqrt(first + second * third)\n",
    "\n",
    "    def training_step(self, batch, batch_idx):\n",
    "        z, Hz, err = batch\n",
    "        self.compute_params()\n",
    "        H = self(z)\n",
    "        loss = torch.sum((Hz - H)**2 / err**2)\n",
    "        # loss = F.mse_loss(Hz, H)\n",
    "        self.log('train_loss', loss)\n",
    "        self.log('val_loss', loss)\n",
    "        self.log('H0', self.H0)\n",
    "        self.log('omg_d', self.omg_d)\n",
    "        self.log('eta', self.eta)\n",
    "        self.log('B', self.B)\n",
    "        self.log('n', self.n)\n",
    "        return loss\n",
    "\n",
    "    def configure_optimizers(self):\n",
    "        optimizer = optim.Adam(self.parameters(), lr=self.lr)\n",
    "        return {\n",
    "            \"optimizer\": optimizer,\n",
    "            \"lr_scheduler\": {\n",
    "                \"scheduler\": OneCycleLR(\n",
    "                    optimizer,\n",
    "                    max_lr = self.lr,\n",
    "                    epochs = self.epochs,\n",
    "                    steps_per_epoch = 1,\n",
    "                ),\n",
    "                \"interval\": \"step\",\n",
    "                \"monitor\": \"val_loss\",\n",
    "                \"strict\": True,\n",
    "            }\n",
    "        }"
   ]
  },
  {
   "cell_type": "code",
   "execution_count": 10,
   "id": "62697b86-19aa-485a-a63c-d017b6700cf5",
   "metadata": {},
   "outputs": [],
   "source": [
    "hparams = {\n",
    "    'learning_rate': 1e-1,\n",
    "    'batch_size': 45,\n",
    "    'epochs': 100000,\n",
    "    'hidden_size': 32,\n",
    "    'num_layers': 5,\n",
    "    'H0_init': torch.rand(1),\n",
    "    'omg_d_init': torch.rand(1),\n",
    "    'eta_init': torch.rand(1),\n",
    "    'B_init': torch.rand(1),\n",
    "    'n_init': torch.rand(1)\n",
    "}"
   ]
  },
  {
   "cell_type": "code",
   "execution_count": 11,
   "id": "244295d4-000c-47cc-837b-00340e9bce3f",
   "metadata": {},
   "outputs": [],
   "source": [
    "dl = DataLoader(ds, batch_size = 45, shuffle=True)"
   ]
  },
  {
   "cell_type": "code",
   "execution_count": 12,
   "id": "1ba8d485-aa9e-418f-a3fa-dc5f4f950c8d",
   "metadata": {},
   "outputs": [
    {
     "name": "stderr",
     "output_type": "stream",
     "text": [
      "/tmp/ipykernel_87133/2837498977.py:12: UserWarning: To copy construct from a tensor, it is recommended to use sourceTensor.clone().detach() or sourceTensor.clone().detach().requires_grad_(True), rather than torch.tensor(sourceTensor).\n",
      "  H0    = torch.tensor(hparams['H0_init'])\n",
      "/tmp/ipykernel_87133/2837498977.py:13: UserWarning: To copy construct from a tensor, it is recommended to use sourceTensor.clone().detach() or sourceTensor.clone().detach().requires_grad_(True), rather than torch.tensor(sourceTensor).\n",
      "  omg_d = torch.tensor(hparams['omg_d_init'])\n",
      "/tmp/ipykernel_87133/2837498977.py:14: UserWarning: To copy construct from a tensor, it is recommended to use sourceTensor.clone().detach() or sourceTensor.clone().detach().requires_grad_(True), rather than torch.tensor(sourceTensor).\n",
      "  eta   = torch.tensor(hparams['eta_init'])\n",
      "/tmp/ipykernel_87133/2837498977.py:15: UserWarning: To copy construct from a tensor, it is recommended to use sourceTensor.clone().detach() or sourceTensor.clone().detach().requires_grad_(True), rather than torch.tensor(sourceTensor).\n",
      "  B     = torch.tensor(hparams['B_init'])\n",
      "/tmp/ipykernel_87133/2837498977.py:16: UserWarning: To copy construct from a tensor, it is recommended to use sourceTensor.clone().detach() or sourceTensor.clone().detach().requires_grad_(True), rather than torch.tensor(sourceTensor).\n",
      "  n     = torch.tensor(hparams['n_init'])\n"
     ]
    },
    {
     "data": {
      "text/plain": [
       "MLP()"
      ]
     },
     "execution_count": 12,
     "metadata": {},
     "output_type": "execute_result"
    }
   ],
   "source": [
    "model = MLP(hparams)\n",
    "model"
   ]
  },
  {
   "cell_type": "code",
   "execution_count": 13,
   "id": "cb25ee0f-7349-4b30-9c16-a9af0cef66d7",
   "metadata": {},
   "outputs": [],
   "source": [
    "wandb_logger = WandbLogger(\n",
    "    project=\"Hubble_Predict\"  \n",
    ")"
   ]
  },
  {
   "cell_type": "code",
   "execution_count": 14,
   "id": "87f7137c-8993-467c-a851-5cae71021191",
   "metadata": {},
   "outputs": [
    {
     "name": "stderr",
     "output_type": "stream",
     "text": [
      "GPU available: True (cuda), used: True\n",
      "TPU available: False, using: 0 TPU cores\n",
      "IPU available: False, using: 0 IPUs\n",
      "HPU available: False, using: 0 HPUs\n"
     ]
    }
   ],
   "source": [
    "trainer = Trainer(\n",
    "    logger = wandb_logger,\n",
    "    max_epochs = hparams['epochs'],\n",
    "    devices = [0],\n",
    "    accelerator='auto',\n",
    "    enable_progress_bar=False,\n",
    "    callbacks=[\n",
    "        LearningRateMonitor(logging_interval='epoch')\n",
    "    ]\n",
    ")"
   ]
  },
  {
   "cell_type": "code",
   "execution_count": 15,
   "id": "153e6a9f-d2ed-4cf2-8624-60a9e668fae1",
   "metadata": {},
   "outputs": [
    {
     "name": "stderr",
     "output_type": "stream",
     "text": [
      "You are using a CUDA device ('NVIDIA GeForce RTX 3050 4GB Laptop GPU') that has Tensor Cores. To properly utilize them, you should set `torch.set_float32_matmul_precision('medium' | 'high')` which will trade-off precision for performance. For more details, read https://pytorch.org/docs/stable/generated/torch.set_float32_matmul_precision.html#torch.set_float32_matmul_precision\n",
      "\u001b[34m\u001b[1mwandb\u001b[0m: Currently logged in as: \u001b[33maxect\u001b[0m. Use \u001b[1m`wandb login --relogin`\u001b[0m to force relogin\n"
     ]
    },
    {
     "data": {
      "text/html": [
       "wandb version 0.16.3 is available!  To upgrade, please run:\n",
       " $ pip install wandb --upgrade"
      ],
      "text/plain": [
       "<IPython.core.display.HTML object>"
      ]
     },
     "metadata": {},
     "output_type": "display_data"
    },
    {
     "data": {
      "text/html": [
       "Tracking run with wandb version 0.15.12"
      ],
      "text/plain": [
       "<IPython.core.display.HTML object>"
      ]
     },
     "metadata": {},
     "output_type": "display_data"
    },
    {
     "data": {
      "text/html": [
       "Run data is saved locally in <code>./wandb/run-20240225_115914-ea66q0ok</code>"
      ],
      "text/plain": [
       "<IPython.core.display.HTML object>"
      ]
     },
     "metadata": {},
     "output_type": "display_data"
    },
    {
     "data": {
      "text/html": [
       "Syncing run <strong><a href='https://wandb.ai/axect/Hubble_Predict/runs/ea66q0ok' target=\"_blank\">worldly-haze-57</a></strong> to <a href='https://wandb.ai/axect/Hubble_Predict' target=\"_blank\">Weights & Biases</a> (<a href='https://wandb.me/run' target=\"_blank\">docs</a>)<br/>"
      ],
      "text/plain": [
       "<IPython.core.display.HTML object>"
      ]
     },
     "metadata": {},
     "output_type": "display_data"
    },
    {
     "data": {
      "text/html": [
       " View project at <a href='https://wandb.ai/axect/Hubble_Predict' target=\"_blank\">https://wandb.ai/axect/Hubble_Predict</a>"
      ],
      "text/plain": [
       "<IPython.core.display.HTML object>"
      ]
     },
     "metadata": {},
     "output_type": "display_data"
    },
    {
     "data": {
      "text/html": [
       " View run at <a href='https://wandb.ai/axect/Hubble_Predict/runs/ea66q0ok' target=\"_blank\">https://wandb.ai/axect/Hubble_Predict/runs/ea66q0ok</a>"
      ],
      "text/plain": [
       "<IPython.core.display.HTML object>"
      ]
     },
     "metadata": {},
     "output_type": "display_data"
    },
    {
     "name": "stderr",
     "output_type": "stream",
     "text": [
      "LOCAL_RANK: 0 - CUDA_VISIBLE_DEVICES: [0]\n",
      "\n",
      "  | Name         | Type | Params\n",
      "--------------------------------------\n",
      "  | other params | n/a  | 5     \n",
      "--------------------------------------\n",
      "5         Trainable params\n",
      "0         Non-trainable params\n",
      "5         Total params\n",
      "0.000     Total estimated model params size (MB)\n",
      "/home/xteca/.local/lib/python3.11/site-packages/lightning/pytorch/trainer/connectors/data_connector.py:441: The 'train_dataloader' does not have many workers which may be a bottleneck. Consider increasing the value of the `num_workers` argument` to `num_workers=15` in the `DataLoader` to improve performance.\n",
      "/home/xteca/.local/lib/python3.11/site-packages/lightning/pytorch/loops/fit_loop.py:293: The number of training batches (1) is smaller than the logging interval Trainer(log_every_n_steps=50). Set a lower value for log_every_n_steps if you want to see logs for the training epoch.\n",
      "`Trainer.fit` stopped: `max_epochs=100000` reached.\n"
     ]
    },
    {
     "name": "stdout",
     "output_type": "stream",
     "text": [
      "Error in callback <bound method _WandbInit._pause_backend of <wandb.sdk.wandb_init._WandbInit object at 0x7f2eb1810210>> (for post_run_cell), with arguments args (<ExecutionResult object at 7f2eb0251b10, execution_count=15 error_before_exec=None error_in_exec=None info=<ExecutionInfo object at 7f2eb0133f90, raw_cell=\"trainer.fit(model, dl)\" store_history=True silent=False shell_futures=True cell_id=153e6a9f-d2ed-4cf2-8624-60a9e668fae1> result=None>,),kwargs {}:\n"
     ]
    },
    {
     "ename": "TypeError",
     "evalue": "_WandbInit._pause_backend() takes 1 positional argument but 2 were given",
     "output_type": "error",
     "traceback": [
      "\u001b[0;31m---------------------------------------------------------------------------\u001b[0m",
      "\u001b[0;31mTypeError\u001b[0m                                 Traceback (most recent call last)",
      "\u001b[0;31mTypeError\u001b[0m: _WandbInit._pause_backend() takes 1 positional argument but 2 were given"
     ]
    }
   ],
   "source": [
    "trainer.fit(model, dl)"
   ]
  },
  {
   "cell_type": "code",
   "execution_count": 16,
   "id": "6169ff00-d37e-400c-a041-0de3fd84c849",
   "metadata": {},
   "outputs": [
    {
     "name": "stdout",
     "output_type": "stream",
     "text": [
      "Error in callback <bound method _WandbInit._resume_backend of <wandb.sdk.wandb_init._WandbInit object at 0x7f2eb1810210>> (for pre_run_cell), with arguments args (<ExecutionInfo object at 7f2e60ab3c50, raw_cell=\"wandb.finish()\" store_history=True silent=False shell_futures=True cell_id=6169ff00-d37e-400c-a041-0de3fd84c849>,),kwargs {}:\n"
     ]
    },
    {
     "ename": "TypeError",
     "evalue": "_WandbInit._resume_backend() takes 1 positional argument but 2 were given",
     "output_type": "error",
     "traceback": [
      "\u001b[0;31m---------------------------------------------------------------------------\u001b[0m",
      "\u001b[0;31mTypeError\u001b[0m                                 Traceback (most recent call last)",
      "\u001b[0;31mTypeError\u001b[0m: _WandbInit._resume_backend() takes 1 positional argument but 2 were given"
     ]
    },
    {
     "data": {
      "text/html": [
       "Waiting for W&B process to finish... <strong style=\"color:green\">(success).</strong>"
      ],
      "text/plain": [
       "<IPython.core.display.HTML object>"
      ]
     },
     "metadata": {},
     "output_type": "display_data"
    },
    {
     "data": {
      "application/vnd.jupyter.widget-view+json": {
       "model_id": "5a3912be67ff4c92aca725764ed35355",
       "version_major": 2,
       "version_minor": 0
      },
      "text/plain": [
       "VBox(children=(Label(value='0.003 MB of 0.003 MB uploaded (0.000 MB deduped)\\r'), FloatProgress(value=1.0, max…"
      ]
     },
     "metadata": {},
     "output_type": "display_data"
    },
    {
     "data": {
      "text/html": [
       "<style>\n",
       "    table.wandb td:nth-child(1) { padding: 0 10px; text-align: left ; width: auto;} td:nth-child(2) {text-align: left ; width: 100%}\n",
       "    .wandb-row { display: flex; flex-direction: row; flex-wrap: wrap; justify-content: flex-start; width: 100% }\n",
       "    .wandb-col { display: flex; flex-direction: column; flex-basis: 100%; flex: 1; padding: 10px; }\n",
       "    </style>\n",
       "<div class=\"wandb-row\"><div class=\"wandb-col\"><h3>Run history:</h3><br/><table class=\"wandb\"><tr><td>B</td><td>▁▁▁▁▁▁▁▅▇▇▇████████▇▇▇▇▇▇▇▇▇▇▇▇▇▇▇▇▇▇▇▇▇</td></tr><tr><td>H0</td><td>▁▄▅▆▇▇▇▇████████████████████████████████</td></tr><tr><td>epoch</td><td>▁▁▁▂▂▂▂▂▂▃▃▃▃▃▄▄▄▄▄▄▅▅▅▅▅▅▆▆▆▆▆▇▇▇▇▇▇███</td></tr><tr><td>eta</td><td>▅▅▅▇██▇▁▁▁▂▄▃▃▄▅▅▄▄▄▄▄▄▄▄▄▄▄▄▄▄▄▄▄▄▄▄▄▄▄</td></tr><tr><td>lr-Adam</td><td>▁▁▂▂▃▄▅▆▆▇███████▇▇▇▇▆▆▆▅▅▄▄▄▃▃▂▂▂▂▁▁▁▁▁</td></tr><tr><td>n</td><td>▁▆▇▇███▇▆▅▅▅▅▅▅▄▄▄▄▄▄▄▄▄▄▄▄▄▄▄▄▄▄▄▄▄▄▄▄▄</td></tr><tr><td>omg_d</td><td>▁▁▂▃▄▅▅▅▆▆▆▇▆▇▇▇▇▇▇▇▇▇▇▇▇███████████████</td></tr><tr><td>train_loss</td><td>█▂▁▁▁▁▁▁▁▁▁▁▁▁▁▁▁▁▁▁▁▁▁▁▁▁▁▁▁▁▁▁▁▁▁▁▁▁▁▁</td></tr><tr><td>trainer/global_step</td><td>▁▁▁▂▂▂▂▂▂▃▃▃▃▃▄▄▄▄▄▄▅▅▅▅▅▅▆▆▆▆▆▆▇▇▇▇▇███</td></tr><tr><td>val_loss</td><td>█▂▁▁▁▁▁▁▁▁▁▁▁▁▁▁▁▁▁▁▁▁▁▁▁▁▁▁▁▁▁▁▁▁▁▁▁▁▁▁</td></tr></table><br/></div><div class=\"wandb-col\"><h3>Run summary:</h3><br/><table class=\"wandb\"><tr><td>B</td><td>1.76572</td></tr><tr><td>H0</td><td>74.06873</td></tr><tr><td>epoch</td><td>99999</td></tr><tr><td>eta</td><td>0.35187</td></tr><tr><td>lr-Adam</td><td>0.0</td></tr><tr><td>n</td><td>0.22248</td></tr><tr><td>omg_d</td><td>0.97882</td></tr><tr><td>train_loss</td><td>20.02844</td></tr><tr><td>trainer/global_step</td><td>99999</td></tr><tr><td>val_loss</td><td>20.02844</td></tr></table><br/></div></div>"
      ],
      "text/plain": [
       "<IPython.core.display.HTML object>"
      ]
     },
     "metadata": {},
     "output_type": "display_data"
    },
    {
     "data": {
      "text/html": [
       " View run <strong style=\"color:#cdcd00\">worldly-haze-57</strong> at: <a href='https://wandb.ai/axect/Hubble_Predict/runs/ea66q0ok' target=\"_blank\">https://wandb.ai/axect/Hubble_Predict/runs/ea66q0ok</a><br/> View job at <a href='https://wandb.ai/axect/Hubble_Predict/jobs/QXJ0aWZhY3RDb2xsZWN0aW9uOjE0MjY3MjY2MQ==/version_details/v7' target=\"_blank\">https://wandb.ai/axect/Hubble_Predict/jobs/QXJ0aWZhY3RDb2xsZWN0aW9uOjE0MjY3MjY2MQ==/version_details/v7</a><br/>Synced 5 W&B file(s), 0 media file(s), 0 artifact file(s) and 0 other file(s)"
      ],
      "text/plain": [
       "<IPython.core.display.HTML object>"
      ]
     },
     "metadata": {},
     "output_type": "display_data"
    },
    {
     "data": {
      "text/html": [
       "Find logs at: <code>./wandb/run-20240225_115914-ea66q0ok/logs</code>"
      ],
      "text/plain": [
       "<IPython.core.display.HTML object>"
      ]
     },
     "metadata": {},
     "output_type": "display_data"
    }
   ],
   "source": [
    "wandb.finish()"
   ]
  },
  {
   "cell_type": "code",
   "execution_count": 17,
   "id": "c95a0534-1b07-45e4-a00a-eb3a85c19ec1",
   "metadata": {},
   "outputs": [
    {
     "data": {
      "text/plain": [
       "array([0.071, 0.09 , 0.12 , 0.17 , 0.179, 0.199, 0.2  , 0.24 , 0.27 ,\n",
       "       0.28 , 0.352, 0.38 , 0.4  , 0.401, 0.425, 0.43 , 0.44 , 0.449,\n",
       "       0.47 , 0.478, 0.48 , 0.51 , 0.52 , 0.56 , 0.57 , 0.593, 0.6  ,\n",
       "       0.61 , 0.64 , 0.679, 0.73 , 0.781, 0.875, 0.88 , 0.9  , 1.037,\n",
       "       1.3  , 1.363, 1.43 , 1.53 , 1.75 , 1.965, 2.3  , 2.34 , 2.36 ])"
      ]
     },
     "execution_count": 17,
     "metadata": {},
     "output_type": "execute_result"
    }
   ],
   "source": [
    "redshift"
   ]
  }
 ],
 "metadata": {
  "kernelspec": {
   "display_name": "Python 3 (ipykernel)",
   "language": "python",
   "name": "python3"
  },
  "language_info": {
   "codemirror_mode": {
    "name": "ipython",
    "version": 3
   },
   "file_extension": ".py",
   "mimetype": "text/x-python",
   "name": "python",
   "nbconvert_exporter": "python",
   "pygments_lexer": "ipython3",
   "version": "3.11.7"
  }
 },
 "nbformat": 4,
 "nbformat_minor": 5
}
